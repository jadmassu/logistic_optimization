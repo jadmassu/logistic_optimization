{
 "cells": [
  {
   "cell_type": "code",
   "execution_count": 1,
   "id": "3925fbd1-b93c-4c03-a58b-d22f684bba3c",
   "metadata": {
    "tags": []
   },
   "outputs": [],
   "source": [
    "import os, sys\n",
    "import pandas as pd\n",
    "from dotenv import load_dotenv\n",
    "import datetime"
   ]
  },
  {
   "cell_type": "code",
   "execution_count": 2,
   "id": "955ce8df-101d-448b-bb3c-f2145700fc15",
   "metadata": {
    "tags": []
   },
   "outputs": [],
   "source": [
    "rpath = os.path.abspath('/home/user/Documents/10/w8/logistic_optimization')\n",
    "\n",
    "if rpath not in sys.path:\n",
    "    sys.path.insert(0, rpath)"
   ]
  },
  {
   "cell_type": "code",
   "execution_count": 3,
   "id": "8b4e2268-b689-4c24-b495-627c80482c5a",
   "metadata": {
    "tags": []
   },
   "outputs": [],
   "source": [
    "from service.holy_days import HolidayFetcher"
   ]
  },
  {
   "cell_type": "code",
   "execution_count": 4,
   "id": "0b6d8ed7-c03b-4e7e-9584-76e818ae498b",
   "metadata": {
    "tags": []
   },
   "outputs": [],
   "source": [
    "import utils.utils as util"
   ]
  },
  {
   "cell_type": "code",
   "execution_count": 5,
   "id": "5ac0661b-afa8-4418-8a1c-5157d7a39c9e",
   "metadata": {},
   "outputs": [
    {
     "name": "stdout",
     "output_type": "stream",
     "text": [
      "Data loaded successfully.\n"
     ]
    }
   ],
   "source": [
    "path = rpath + \"/data/processed/order.csv\" \n",
    "order = util.load_data(path)"
   ]
  },
  {
   "cell_type": "code",
   "execution_count": 6,
   "id": "633eb360-b99e-4aa4-8931-d085ed4f34b7",
   "metadata": {
    "tags": []
   },
   "outputs": [],
   "source": [
    "\n",
    "order['Trip Start Time'] = pd.to_datetime(order['Trip Start Time'])\n",
    "dates = order['Trip Start Time'].dt.date.unique()"
   ]
  },
  {
   "cell_type": "code",
   "execution_count": 7,
   "id": "51619f2b-0a9c-42ab-a273-51d601d57a8e",
   "metadata": {
    "tags": []
   },
   "outputs": [
    {
     "data": {
      "text/plain": [
       "array([datetime.date(2021, 7, 1), datetime.date(2021, 7, 2),\n",
       "       datetime.date(2021, 7, 4), datetime.date(2021, 7, 3),\n",
       "       datetime.date(2021, 7, 7), datetime.date(2021, 7, 6),\n",
       "       datetime.date(2021, 7, 5), datetime.date(2021, 7, 8),\n",
       "       datetime.date(2021, 7, 10), datetime.date(2021, 7, 9),\n",
       "       datetime.date(2021, 7, 13), datetime.date(2021, 7, 22),\n",
       "       datetime.date(2021, 8, 4), datetime.date(2021, 7, 28),\n",
       "       datetime.date(2021, 7, 11), datetime.date(2021, 7, 27),\n",
       "       datetime.date(2021, 7, 12), datetime.date(2021, 8, 11),\n",
       "       datetime.date(2021, 8, 7), datetime.date(2021, 7, 14),\n",
       "       datetime.date(2021, 8, 21), datetime.date(2021, 7, 15),\n",
       "       datetime.date(2021, 8, 25), datetime.date(2021, 7, 24),\n",
       "       datetime.date(2021, 8, 2), datetime.date(2021, 7, 17),\n",
       "       datetime.date(2021, 8, 16), datetime.date(2021, 8, 13),\n",
       "       datetime.date(2021, 7, 19), datetime.date(2021, 8, 6),\n",
       "       datetime.date(2021, 7, 18), datetime.date(2021, 7, 16),\n",
       "       datetime.date(2021, 7, 23), datetime.date(2021, 8, 17),\n",
       "       datetime.date(2021, 7, 20), datetime.date(2021, 7, 30),\n",
       "       datetime.date(2021, 7, 21), datetime.date(2022, 2, 4),\n",
       "       datetime.date(2022, 2, 27), datetime.date(2021, 8, 12),\n",
       "       datetime.date(2021, 8, 9), datetime.date(2021, 9, 4),\n",
       "       datetime.date(2021, 7, 26), datetime.date(2021, 8, 1),\n",
       "       datetime.date(2021, 8, 18), datetime.date(2021, 7, 29),\n",
       "       datetime.date(2021, 8, 10), datetime.date(2021, 8, 3),\n",
       "       datetime.date(2022, 1, 21), datetime.date(2021, 7, 31),\n",
       "       datetime.date(2021, 9, 10), datetime.date(2021, 8, 5),\n",
       "       datetime.date(2021, 7, 25), datetime.date(2021, 9, 11),\n",
       "       datetime.date(2021, 8, 20), datetime.date(2021, 8, 28),\n",
       "       datetime.date(2021, 9, 13), datetime.date(2021, 8, 8),\n",
       "       datetime.date(2021, 8, 23), datetime.date(2021, 8, 14),\n",
       "       datetime.date(2021, 8, 22), datetime.date(2021, 9, 5),\n",
       "       datetime.date(2021, 8, 15), datetime.date(2021, 8, 19),\n",
       "       datetime.date(2021, 8, 24), datetime.date(2021, 8, 30),\n",
       "       datetime.date(2021, 8, 27), datetime.date(2021, 8, 26),\n",
       "       datetime.date(2021, 9, 6), datetime.date(2021, 9, 1),\n",
       "       datetime.date(2021, 8, 29), datetime.date(2021, 8, 31),\n",
       "       datetime.date(2021, 9, 9), datetime.date(2021, 9, 2),\n",
       "       datetime.date(2021, 9, 7), datetime.date(2021, 9, 3),\n",
       "       datetime.date(2021, 9, 24), datetime.date(2021, 10, 19),\n",
       "       datetime.date(2021, 9, 12), datetime.date(2021, 9, 17),\n",
       "       datetime.date(2021, 10, 15), datetime.date(2021, 9, 28),\n",
       "       datetime.date(2021, 9, 8), datetime.date(2021, 10, 7),\n",
       "       datetime.date(2021, 9, 25), datetime.date(2021, 12, 19),\n",
       "       datetime.date(2021, 10, 6), datetime.date(2021, 12, 9),\n",
       "       datetime.date(2021, 9, 18), datetime.date(2021, 12, 6),\n",
       "       datetime.date(2021, 10, 13), datetime.date(2021, 11, 3),\n",
       "       datetime.date(2021, 10, 5), datetime.date(2022, 3, 29),\n",
       "       datetime.date(2022, 2, 17), datetime.date(2021, 12, 3),\n",
       "       datetime.date(2021, 9, 23), datetime.date(2021, 9, 30),\n",
       "       datetime.date(2021, 10, 8), datetime.date(2021, 9, 21),\n",
       "       datetime.date(2021, 9, 14), datetime.date(2021, 11, 19),\n",
       "       datetime.date(2021, 9, 15), datetime.date(2021, 9, 16),\n",
       "       datetime.date(2021, 9, 20), datetime.date(2021, 9, 19),\n",
       "       datetime.date(2021, 9, 22), datetime.date(2021, 11, 24),\n",
       "       datetime.date(2021, 9, 27), datetime.date(2021, 9, 29),\n",
       "       datetime.date(2021, 12, 15), datetime.date(2021, 10, 4),\n",
       "       datetime.date(2021, 9, 26), datetime.date(2021, 10, 2),\n",
       "       datetime.date(2021, 11, 22), datetime.date(2021, 10, 1),\n",
       "       datetime.date(2021, 10, 27), datetime.date(2021, 10, 3),\n",
       "       datetime.date(2021, 10, 10), datetime.date(2022, 1, 19),\n",
       "       datetime.date(2021, 10, 11), datetime.date(2021, 10, 16),\n",
       "       datetime.date(2021, 10, 9), datetime.date(2021, 11, 5),\n",
       "       datetime.date(2022, 1, 31), datetime.date(2021, 10, 14),\n",
       "       datetime.date(2022, 3, 7), datetime.date(2022, 4, 11),\n",
       "       datetime.date(2021, 10, 12), datetime.date(2021, 10, 17),\n",
       "       datetime.date(2021, 10, 18), datetime.date(2021, 10, 26),\n",
       "       datetime.date(2021, 10, 23), datetime.date(2021, 10, 21),\n",
       "       datetime.date(2021, 10, 20), datetime.date(2021, 10, 22),\n",
       "       datetime.date(2021, 11, 26), datetime.date(2021, 10, 24),\n",
       "       datetime.date(2021, 10, 25), datetime.date(2021, 10, 28),\n",
       "       datetime.date(2021, 11, 23), datetime.date(2021, 10, 30),\n",
       "       datetime.date(2021, 11, 18), datetime.date(2021, 10, 29),\n",
       "       datetime.date(2021, 11, 4), datetime.date(2021, 11, 2),\n",
       "       datetime.date(2021, 11, 11), datetime.date(2021, 11, 15),\n",
       "       datetime.date(2021, 10, 31), datetime.date(2022, 3, 31),\n",
       "       datetime.date(2021, 11, 1), datetime.date(2021, 11, 8),\n",
       "       datetime.date(2021, 11, 20), datetime.date(2022, 4, 4),\n",
       "       datetime.date(2021, 11, 9), datetime.date(2021, 11, 6),\n",
       "       datetime.date(2021, 11, 10), datetime.date(2022, 2, 3),\n",
       "       datetime.date(2021, 11, 7), datetime.date(2021, 11, 13),\n",
       "       datetime.date(2022, 3, 22), datetime.date(2022, 2, 16),\n",
       "       datetime.date(2021, 11, 12), datetime.date(2021, 12, 8),\n",
       "       datetime.date(2021, 12, 2), datetime.date(2021, 12, 1),\n",
       "       datetime.date(2021, 12, 7), datetime.date(2021, 11, 14),\n",
       "       datetime.date(2021, 11, 16), datetime.date(2021, 11, 17),\n",
       "       datetime.date(2021, 11, 30), datetime.date(2021, 12, 21),\n",
       "       datetime.date(2021, 11, 21), datetime.date(2021, 11, 25),\n",
       "       datetime.date(2022, 5, 19), datetime.date(2021, 11, 29),\n",
       "       datetime.date(2021, 11, 27), datetime.date(2021, 12, 16),\n",
       "       datetime.date(2021, 11, 28), datetime.date(2022, 1, 18),\n",
       "       datetime.date(2022, 4, 13), datetime.date(2021, 12, 4),\n",
       "       datetime.date(2021, 12, 14), datetime.date(2022, 2, 26),\n",
       "       datetime.date(2021, 12, 5), datetime.date(2021, 12, 27),\n",
       "       datetime.date(2022, 2, 6), datetime.date(2021, 12, 18),\n",
       "       datetime.date(2022, 6, 3), datetime.date(2021, 12, 10),\n",
       "       datetime.date(2022, 4, 19), datetime.date(2021, 12, 11),\n",
       "       datetime.date(2021, 12, 13), datetime.date(2021, 12, 12),\n",
       "       datetime.date(2021, 12, 20), datetime.date(2022, 3, 4),\n",
       "       datetime.date(2021, 12, 17), datetime.date(2022, 2, 23),\n",
       "       datetime.date(2022, 2, 15), datetime.date(2022, 3, 28),\n",
       "       datetime.date(2021, 12, 22), datetime.date(2022, 1, 15),\n",
       "       datetime.date(2022, 1, 3), datetime.date(2022, 1, 28),\n",
       "       datetime.date(2022, 1, 27), datetime.date(2022, 1, 12),\n",
       "       datetime.date(2022, 2, 28), datetime.date(2022, 4, 30),\n",
       "       datetime.date(2022, 4, 22), datetime.date(2022, 4, 18),\n",
       "       datetime.date(2022, 6, 13), datetime.date(2022, 1, 24),\n",
       "       datetime.date(2021, 12, 26), datetime.date(2021, 12, 25),\n",
       "       datetime.date(2022, 2, 5), datetime.date(2022, 2, 11),\n",
       "       datetime.date(2021, 12, 23), datetime.date(2022, 3, 25),\n",
       "       datetime.date(2021, 12, 24), datetime.date(2022, 4, 16),\n",
       "       datetime.date(2021, 12, 29), datetime.date(2022, 3, 23),\n",
       "       datetime.date(2022, 2, 9), datetime.date(2022, 1, 11),\n",
       "       datetime.date(2022, 1, 17), datetime.date(2022, 1, 25),\n",
       "       datetime.date(2022, 1, 29), datetime.date(2022, 1, 7),\n",
       "       datetime.date(2022, 2, 25), datetime.date(2022, 3, 10),\n",
       "       datetime.date(2022, 1, 8), datetime.date(2022, 1, 13),\n",
       "       datetime.date(2022, 1, 6), datetime.date(2021, 12, 28),\n",
       "       datetime.date(2022, 4, 10), datetime.date(2022, 5, 30),\n",
       "       datetime.date(2021, 12, 31), datetime.date(2021, 12, 30),\n",
       "       datetime.date(2022, 2, 7), datetime.date(2022, 1, 1),\n",
       "       datetime.date(2022, 2, 24), datetime.date(2022, 3, 5),\n",
       "       datetime.date(2022, 4, 25), datetime.date(2022, 2, 19),\n",
       "       datetime.date(2022, 3, 15), datetime.date(2022, 2, 22),\n",
       "       datetime.date(2022, 1, 4), datetime.date(2022, 2, 14),\n",
       "       datetime.date(2022, 3, 11), datetime.date(2022, 1, 20),\n",
       "       datetime.date(2022, 1, 2), datetime.date(2022, 3, 17)],\n",
       "      dtype=object)"
      ]
     },
     "execution_count": 7,
     "metadata": {},
     "output_type": "execute_result"
    }
   ],
   "source": [
    "\n",
    "df = pd.DataFrame(dates, columns=['Trip Dates'])\n",
    "\n",
    "# Define a filter function to check for datetime.date\n",
    "def is_datetime_date(value):\n",
    "    result = isinstance(value, datetime.date) and not pd.isna(value)\n",
    "   \n",
    "    return result\n",
    "\n",
    "# Apply the filter function and drop rows with non-datetime.date values\n",
    "df_cleaned = df[df['Trip Dates'].apply(is_datetime_date)]\n",
    "\n",
    "\n",
    "dates_array = df_cleaned['Trip Dates'].to_numpy()\n",
    "dates_array"
   ]
  },
  {
   "cell_type": "code",
   "execution_count": 11,
   "id": "362118b9-6aa2-477e-9d82-ab8c7a05d331",
   "metadata": {
    "tags": []
   },
   "outputs": [
    {
     "data": {
      "text/plain": [
       "253"
      ]
     },
     "execution_count": 11,
     "metadata": {},
     "output_type": "execute_result"
    }
   ],
   "source": [
    "len(dates)"
   ]
  },
  {
   "cell_type": "code",
   "execution_count": 12,
   "id": "a7972ff0-65f2-40dd-b5f0-62ed926882db",
   "metadata": {},
   "outputs": [],
   "source": [
    "holiday_fetcher = HolidayFetcher(api_key='uUBGODyfiWkEDKdJe4JgvA2pvDCTR5RA', country=\"NG\",date= dates_array)  "
   ]
  },
  {
   "cell_type": "code",
   "execution_count": null,
   "id": "3debfd57-f893-48e9-a692-650f29fb5c18",
   "metadata": {
    "tags": []
   },
   "outputs": [
    {
     "name": "stdout",
     "output_type": "stream",
     "text": [
      "['2021-01-01', '2021-02-14', '2021-02-17', '2021-03-08', '2021-03-14', '2021-03-20T10:37:31+01:00', '2021-04-02', '2021-04-03', '2021-04-04', '2021-04-05', '2021-05-01', '2021-05-03', '2021-05-12', '2021-05-13', '2021-05-27', '2021-06-12', '2021-06-14', '2021-06-20', '2021-06-21T04:32:09+01:00', '2021-07-20', '2021-07-21', '2021-08-09', '2021-08-10', '2021-08-20', '2021-08-27', '2021-09-22T20:21:11+01:00', '2021-10-01', '2021-10-19', '2021-12-21T16:59:18+01:00', '2021-12-22', '2021-12-24', '2021-12-25', '2021-12-26', '2021-12-27', '2021-12-28', '2021-12-31']\n",
      "['2022-01-01', '2022-01-03', '2022-02-14', '2022-03-02', '2022-03-08', '2022-03-20T16:33:25+01:00', '2022-03-27', '2022-04-15', '2022-04-16', '2022-04-17', '2022-04-18', '2022-05-01', '2022-05-02', '2022-05-02', '2022-05-03', '2022-05-27', '2022-06-12', '2022-06-13', '2022-06-19', '2022-06-21T10:13:51+01:00', '2022-07-09', '2022-07-11', '2022-07-12', '2022-07-29', '2022-07-30', '2022-08-01', '2022-08-20', '2022-09-23T02:03:34+01:00', '2022-10-01', '2022-10-03', '2022-10-08', '2022-10-10', '2022-12-21T22:48:13+01:00', '2022-12-22', '2022-12-24', '2022-12-25', '2022-12-26', '2022-12-27', '2022-12-31']\n"
     ]
    }
   ],
   "source": [
    "holiday_fetcher.add_holiday_column(order)"
   ]
  },
  {
   "cell_type": "code",
   "execution_count": null,
   "id": "25439e40-9d32-47be-b81f-9594f9e0162d",
   "metadata": {
    "tags": []
   },
   "outputs": [],
   "source": [
    "order"
   ]
  },
  {
   "cell_type": "code",
   "execution_count": null,
   "id": "de7d15b0-815a-430d-bb1a-b1f158afbd10",
   "metadata": {
    "tags": []
   },
   "outputs": [],
   "source": [
    "path = rpath + \"/data/processed/order.csv\"\n",
    "util.save_to_csv(order, path)"
   ]
  },
  {
   "cell_type": "code",
   "execution_count": null,
   "id": "4f7c076c-87e5-4ef1-8bec-df2e1cbdd30f",
   "metadata": {},
   "outputs": [],
   "source": []
  },
  {
   "cell_type": "code",
   "execution_count": null,
   "id": "cc165e15-f9ab-4991-b7db-808f855b3e2c",
   "metadata": {},
   "outputs": [],
   "source": []
  }
 ],
 "metadata": {
  "kernelspec": {
   "display_name": "Python 3 (ipykernel)",
   "language": "python",
   "name": "python3"
  },
  "language_info": {
   "codemirror_mode": {
    "name": "ipython",
    "version": 3
   },
   "file_extension": ".py",
   "mimetype": "text/x-python",
   "name": "python",
   "nbconvert_exporter": "python",
   "pygments_lexer": "ipython3",
   "version": "3.11.7"
  }
 },
 "nbformat": 4,
 "nbformat_minor": 5
}
