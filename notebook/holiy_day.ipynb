{
 "cells": [
  {
   "cell_type": "code",
   "execution_count": 1,
   "id": "3925fbd1-b93c-4c03-a58b-d22f684bba3c",
   "metadata": {
    "tags": []
   },
   "outputs": [],
   "source": [
    "import os, sys\n",
    "import pandas as pd\n",
    "from dotenv import load_dotenv\n",
    "import datetime"
   ]
  },
  {
   "cell_type": "code",
   "execution_count": 2,
   "id": "955ce8df-101d-448b-bb3c-f2145700fc15",
   "metadata": {
    "tags": []
   },
   "outputs": [],
   "source": [
    "rpath = os.path.abspath('/home/user/Documents/10/w8/logistic_optimization')\n",
    "\n",
    "if rpath not in sys.path:\n",
    "    sys.path.insert(0, rpath)"
   ]
  },
  {
   "cell_type": "code",
   "execution_count": 3,
   "id": "8b4e2268-b689-4c24-b495-627c80482c5a",
   "metadata": {
    "tags": []
   },
   "outputs": [],
   "source": [
    "from service.holy_days import HolidayFetcher"
   ]
  },
  {
   "cell_type": "code",
   "execution_count": 4,
   "id": "0b6d8ed7-c03b-4e7e-9584-76e818ae498b",
   "metadata": {
    "tags": []
   },
   "outputs": [],
   "source": [
    "import utils.utils as util"
   ]
  },
  {
   "cell_type": "code",
   "execution_count": 9,
   "id": "5ac0661b-afa8-4418-8a1c-5157d7a39c9e",
   "metadata": {},
   "outputs": [
    {
     "name": "stdout",
     "output_type": "stream",
     "text": [
      "Data loaded successfully.\n"
     ]
    }
   ],
   "source": [
    "path = rpath + \"/data/processed/order.csv\" \n",
    "order = util.load_data(path)"
   ]
  },
  {
   "cell_type": "code",
   "execution_count": 10,
   "id": "633eb360-b99e-4aa4-8931-d085ed4f34b7",
   "metadata": {
    "tags": []
   },
   "outputs": [],
   "source": [
    "\n",
    "order['Trip Start Time'] = pd.to_datetime(order['Trip Start Time'])\n",
    "dates = order['Trip Start Time'].dt.date.unique()"
   ]
  },
  {
   "cell_type": "code",
   "execution_count": 13,
   "id": "51619f2b-0a9c-42ab-a273-51d601d57a8e",
   "metadata": {
    "tags": []
   },
   "outputs": [
    {
     "data": {
      "text/plain": [
       "array([datetime.date(2021, 7, 1), datetime.date(2021, 7, 2),\n",
       "       datetime.date(2021, 7, 4), datetime.date(2021, 7, 3),\n",
       "       datetime.date(2021, 7, 7), datetime.date(2021, 7, 6),\n",
       "       datetime.date(2021, 7, 5), datetime.date(2021, 7, 8),\n",
       "       datetime.date(2021, 7, 10), datetime.date(2021, 7, 9),\n",
       "       datetime.date(2021, 7, 13), datetime.date(2021, 7, 22),\n",
       "       datetime.date(2021, 8, 4), datetime.date(2021, 7, 28),\n",
       "       datetime.date(2021, 7, 11), datetime.date(2021, 7, 27),\n",
       "       datetime.date(2021, 7, 12), datetime.date(2021, 8, 11),\n",
       "       datetime.date(2021, 8, 7), datetime.date(2021, 7, 14),\n",
       "       datetime.date(2021, 8, 21), datetime.date(2021, 7, 15),\n",
       "       datetime.date(2021, 8, 25), datetime.date(2021, 7, 24),\n",
       "       datetime.date(2021, 8, 2), datetime.date(2021, 7, 17),\n",
       "       datetime.date(2021, 8, 16), datetime.date(2021, 8, 13),\n",
       "       datetime.date(2021, 7, 19), datetime.date(2021, 8, 6),\n",
       "       datetime.date(2021, 7, 18), datetime.date(2021, 7, 16),\n",
       "       datetime.date(2021, 7, 23), datetime.date(2021, 8, 17),\n",
       "       datetime.date(2021, 7, 20), datetime.date(2021, 7, 30),\n",
       "       datetime.date(2021, 7, 21), datetime.date(2022, 2, 4),\n",
       "       datetime.date(2022, 2, 27), datetime.date(2021, 8, 12),\n",
       "       datetime.date(2021, 8, 9), datetime.date(2021, 9, 4),\n",
       "       datetime.date(2021, 7, 26), datetime.date(2021, 8, 1),\n",
       "       datetime.date(2021, 8, 18), datetime.date(2021, 7, 29),\n",
       "       datetime.date(2021, 8, 10), datetime.date(2021, 8, 3),\n",
       "       datetime.date(2022, 1, 21), datetime.date(2021, 7, 31),\n",
       "       datetime.date(2021, 9, 10), datetime.date(2021, 8, 5),\n",
       "       datetime.date(2021, 7, 25), datetime.date(2021, 9, 11),\n",
       "       datetime.date(2021, 8, 20), datetime.date(2021, 8, 28),\n",
       "       datetime.date(2021, 9, 13), datetime.date(2021, 8, 8),\n",
       "       datetime.date(2021, 8, 23), datetime.date(2021, 8, 14),\n",
       "       datetime.date(2021, 8, 22), datetime.date(2021, 9, 5),\n",
       "       datetime.date(2021, 8, 15), datetime.date(2021, 8, 19),\n",
       "       datetime.date(2021, 8, 24), datetime.date(2021, 8, 30),\n",
       "       datetime.date(2021, 8, 27), datetime.date(2021, 8, 26),\n",
       "       datetime.date(2021, 9, 6), datetime.date(2021, 9, 1),\n",
       "       datetime.date(2021, 8, 29), datetime.date(2021, 8, 31),\n",
       "       datetime.date(2021, 9, 9), datetime.date(2021, 9, 2),\n",
       "       datetime.date(2021, 9, 7), datetime.date(2021, 9, 3),\n",
       "       datetime.date(2021, 9, 24), datetime.date(2021, 10, 19),\n",
       "       datetime.date(2021, 9, 12), datetime.date(2021, 9, 17),\n",
       "       datetime.date(2021, 10, 15), datetime.date(2021, 9, 28),\n",
       "       datetime.date(2021, 9, 8), datetime.date(2021, 10, 7),\n",
       "       datetime.date(2021, 9, 25), datetime.date(2021, 12, 19),\n",
       "       datetime.date(2021, 10, 6), datetime.date(2021, 12, 9),\n",
       "       datetime.date(2021, 9, 18), datetime.date(2021, 12, 6),\n",
       "       datetime.date(2021, 10, 13), datetime.date(2021, 11, 3),\n",
       "       datetime.date(2021, 10, 5), datetime.date(2022, 3, 29),\n",
       "       datetime.date(2022, 2, 17), datetime.date(2021, 12, 3),\n",
       "       datetime.date(2021, 9, 23), datetime.date(2021, 9, 30),\n",
       "       datetime.date(2021, 10, 8), datetime.date(2021, 9, 21),\n",
       "       datetime.date(2021, 9, 14), datetime.date(2021, 11, 19),\n",
       "       datetime.date(2021, 9, 15), datetime.date(2021, 9, 16),\n",
       "       datetime.date(2021, 9, 20), datetime.date(2021, 9, 19),\n",
       "       datetime.date(2021, 9, 22), datetime.date(2021, 11, 24),\n",
       "       datetime.date(2021, 9, 27), datetime.date(2021, 9, 29),\n",
       "       datetime.date(2021, 12, 15), datetime.date(2021, 10, 4),\n",
       "       datetime.date(2021, 9, 26), datetime.date(2021, 10, 2),\n",
       "       datetime.date(2021, 11, 22), datetime.date(2021, 10, 1),\n",
       "       datetime.date(2021, 10, 27), datetime.date(2021, 10, 3),\n",
       "       datetime.date(2021, 10, 10), datetime.date(2022, 1, 19),\n",
       "       datetime.date(2021, 10, 11), datetime.date(2021, 10, 16),\n",
       "       datetime.date(2021, 10, 9), datetime.date(2021, 11, 5),\n",
       "       datetime.date(2022, 1, 31), datetime.date(2021, 10, 14),\n",
       "       datetime.date(2022, 3, 7), datetime.date(2022, 4, 11),\n",
       "       datetime.date(2021, 10, 12), datetime.date(2021, 10, 17),\n",
       "       datetime.date(2021, 10, 18), datetime.date(2021, 10, 26),\n",
       "       datetime.date(2021, 10, 23), datetime.date(2021, 10, 21),\n",
       "       datetime.date(2021, 10, 20), datetime.date(2021, 10, 22),\n",
       "       datetime.date(2021, 11, 26), datetime.date(2021, 10, 24),\n",
       "       datetime.date(2021, 10, 25), datetime.date(2021, 10, 28),\n",
       "       datetime.date(2021, 11, 23), datetime.date(2021, 10, 30),\n",
       "       datetime.date(2021, 11, 18), datetime.date(2021, 10, 29),\n",
       "       datetime.date(2021, 11, 4), datetime.date(2021, 11, 2),\n",
       "       datetime.date(2021, 11, 11), datetime.date(2021, 11, 15),\n",
       "       datetime.date(2021, 10, 31), datetime.date(2022, 3, 31),\n",
       "       datetime.date(2021, 11, 1), datetime.date(2021, 11, 8),\n",
       "       datetime.date(2021, 11, 20), datetime.date(2022, 4, 4),\n",
       "       datetime.date(2021, 11, 9), datetime.date(2021, 11, 6),\n",
       "       datetime.date(2021, 11, 10), datetime.date(2022, 2, 3),\n",
       "       datetime.date(2021, 11, 7), datetime.date(2021, 11, 13),\n",
       "       datetime.date(2022, 3, 22), datetime.date(2022, 2, 16),\n",
       "       datetime.date(2021, 11, 12), datetime.date(2021, 12, 8),\n",
       "       datetime.date(2021, 12, 2), datetime.date(2021, 12, 1),\n",
       "       datetime.date(2021, 12, 7), datetime.date(2021, 11, 14),\n",
       "       datetime.date(2021, 11, 16), datetime.date(2021, 11, 17),\n",
       "       datetime.date(2021, 11, 30), datetime.date(2021, 12, 21),\n",
       "       datetime.date(2021, 11, 21), datetime.date(2021, 11, 25),\n",
       "       datetime.date(2022, 5, 19), datetime.date(2021, 11, 29),\n",
       "       datetime.date(2021, 11, 27), datetime.date(2021, 12, 16),\n",
       "       datetime.date(2021, 11, 28), datetime.date(2022, 1, 18),\n",
       "       datetime.date(2022, 4, 13), datetime.date(2021, 12, 4),\n",
       "       datetime.date(2021, 12, 14), datetime.date(2022, 2, 26),\n",
       "       datetime.date(2021, 12, 5), datetime.date(2021, 12, 27),\n",
       "       datetime.date(2022, 2, 6), datetime.date(2021, 12, 18),\n",
       "       datetime.date(2022, 6, 3), datetime.date(2021, 12, 10),\n",
       "       datetime.date(2022, 4, 19), datetime.date(2021, 12, 11),\n",
       "       datetime.date(2021, 12, 13), datetime.date(2021, 12, 12),\n",
       "       datetime.date(2021, 12, 20), datetime.date(2022, 3, 4),\n",
       "       datetime.date(2021, 12, 17), datetime.date(2022, 2, 23),\n",
       "       datetime.date(2022, 2, 15), datetime.date(2022, 3, 28),\n",
       "       datetime.date(2021, 12, 22), datetime.date(2022, 1, 15),\n",
       "       datetime.date(2022, 1, 3), datetime.date(2022, 1, 28),\n",
       "       datetime.date(2022, 1, 27), datetime.date(2022, 1, 12),\n",
       "       datetime.date(2022, 2, 28), datetime.date(2022, 4, 30),\n",
       "       datetime.date(2022, 4, 22), datetime.date(2022, 4, 18),\n",
       "       datetime.date(2022, 6, 13), datetime.date(2022, 1, 24),\n",
       "       datetime.date(2021, 12, 26), datetime.date(2021, 12, 25),\n",
       "       datetime.date(2022, 2, 5), datetime.date(2022, 2, 11),\n",
       "       datetime.date(2021, 12, 23), datetime.date(2022, 3, 25),\n",
       "       datetime.date(2021, 12, 24), datetime.date(2022, 4, 16),\n",
       "       datetime.date(2021, 12, 29), datetime.date(2022, 3, 23),\n",
       "       datetime.date(2022, 2, 9), datetime.date(2022, 1, 11),\n",
       "       datetime.date(2022, 1, 17), datetime.date(2022, 1, 25),\n",
       "       datetime.date(2022, 1, 29), datetime.date(2022, 1, 7),\n",
       "       datetime.date(2022, 2, 25), datetime.date(2022, 3, 10),\n",
       "       datetime.date(2022, 1, 8), datetime.date(2022, 1, 13),\n",
       "       datetime.date(2022, 1, 6), datetime.date(2021, 12, 28),\n",
       "       datetime.date(2022, 4, 10), datetime.date(2022, 5, 30),\n",
       "       datetime.date(2021, 12, 31), datetime.date(2021, 12, 30),\n",
       "       datetime.date(2022, 2, 7), datetime.date(2022, 1, 1),\n",
       "       datetime.date(2022, 2, 24), datetime.date(2022, 3, 5),\n",
       "       datetime.date(2022, 4, 25), datetime.date(2022, 2, 19),\n",
       "       datetime.date(2022, 3, 15), datetime.date(2022, 2, 22),\n",
       "       datetime.date(2022, 1, 4), datetime.date(2022, 2, 14),\n",
       "       datetime.date(2022, 3, 11), datetime.date(2022, 1, 20),\n",
       "       datetime.date(2022, 1, 2), datetime.date(2022, 3, 17)],\n",
       "      dtype=object)"
      ]
     },
     "execution_count": 13,
     "metadata": {},
     "output_type": "execute_result"
    }
   ],
   "source": [
    "\n",
    "df = pd.DataFrame(dates, columns=['Trip Dates'])\n",
    "\n",
    "# Define a filter function to check for datetime.date\n",
    "def is_datetime_date(value):\n",
    "    result = isinstance(value, datetime.date) and not pd.isna(value)\n",
    "   \n",
    "    return result\n",
    "\n",
    "# Apply the filter function and drop rows with non-datetime.date values\n",
    "df_cleaned = df[df['Trip Dates'].apply(is_datetime_date)]\n",
    "\n",
    "\n",
    "dates_array = df_cleaned['Trip Dates'].to_numpy()\n",
    "dates_array"
   ]
  },
  {
   "cell_type": "code",
   "execution_count": 15,
   "id": "362118b9-6aa2-477e-9d82-ab8c7a05d331",
   "metadata": {
    "tags": []
   },
   "outputs": [
    {
     "data": {
      "text/plain": [
       "253"
      ]
     },
     "execution_count": 15,
     "metadata": {},
     "output_type": "execute_result"
    }
   ],
   "source": [
    "len(dates)"
   ]
  },
  {
   "cell_type": "code",
   "execution_count": 19,
   "id": "a7972ff0-65f2-40dd-b5f0-62ed926882db",
   "metadata": {},
   "outputs": [],
   "source": [
    "holiday_fetcher = HolidayFetcher(api_key='uUBGODyfiWkEDKdJe4JgvA2pvDCTR5RA', country=\"NG\",date= dates_array)  "
   ]
  },
  {
   "cell_type": "code",
   "execution_count": 37,
   "id": "3debfd57-f893-48e9-a692-650f29fb5c18",
   "metadata": {
    "tags": []
   },
   "outputs": [],
   "source": [
    "holiday_fetcher.add_holiday_column(order)"
   ]
  },
  {
   "cell_type": "code",
   "execution_count": 39,
   "id": "25439e40-9d32-47be-b81f-9594f9e0162d",
   "metadata": {
    "tags": []
   },
   "outputs": [
    {
     "data": {
      "text/html": [
       "<div>\n",
       "<style scoped>\n",
       "    .dataframe tbody tr th:only-of-type {\n",
       "        vertical-align: middle;\n",
       "    }\n",
       "\n",
       "    .dataframe tbody tr th {\n",
       "        vertical-align: top;\n",
       "    }\n",
       "\n",
       "    .dataframe thead th {\n",
       "        text-align: right;\n",
       "    }\n",
       "</style>\n",
       "<table border=\"1\" class=\"dataframe\">\n",
       "  <thead>\n",
       "    <tr style=\"text-align: right;\">\n",
       "      <th></th>\n",
       "      <th>Trip ID</th>\n",
       "      <th>Trip Origin</th>\n",
       "      <th>Trip Destination</th>\n",
       "      <th>Trip Start Time</th>\n",
       "      <th>Trip End Time</th>\n",
       "      <th>Holiday</th>\n",
       "    </tr>\n",
       "  </thead>\n",
       "  <tbody>\n",
       "    <tr>\n",
       "      <th>0</th>\n",
       "      <td>391996</td>\n",
       "      <td>6.508813001668548,3.37740316890347</td>\n",
       "      <td>6.650969799999999,3.3450307</td>\n",
       "      <td>2021-07-01 07:28:04</td>\n",
       "      <td>2021-07-01 07:29:37</td>\n",
       "      <td>False</td>\n",
       "    </tr>\n",
       "    <tr>\n",
       "      <th>1</th>\n",
       "      <td>391997</td>\n",
       "      <td>6.4316714,3.4555375</td>\n",
       "      <td>6.4280814653326,3.4721885847586</td>\n",
       "      <td>2021-07-01 06:38:04</td>\n",
       "      <td>2021-07-01 07:07:28</td>\n",
       "      <td>False</td>\n",
       "    </tr>\n",
       "    <tr>\n",
       "      <th>2</th>\n",
       "      <td>391998</td>\n",
       "      <td>6.631679399999999,3.3388976</td>\n",
       "      <td>6.508324099999999,3.3590397</td>\n",
       "      <td>2021-07-01 06:21:02</td>\n",
       "      <td>2021-07-01 07:02:23</td>\n",
       "      <td>False</td>\n",
       "    </tr>\n",
       "    <tr>\n",
       "      <th>3</th>\n",
       "      <td>391999</td>\n",
       "      <td>6.572757200000001,3.3677082</td>\n",
       "      <td>6.584881099999999,3.3614073</td>\n",
       "      <td>2021-07-01 07:16:07</td>\n",
       "      <td>2021-07-01 07:29:42</td>\n",
       "      <td>False</td>\n",
       "    </tr>\n",
       "    <tr>\n",
       "      <th>4</th>\n",
       "      <td>392001</td>\n",
       "      <td>6.6010417,3.2766339</td>\n",
       "      <td>6.4501069,3.3916154</td>\n",
       "      <td>2021-07-01 09:30:59</td>\n",
       "      <td>2021-07-01 09:34:36</td>\n",
       "      <td>False</td>\n",
       "    </tr>\n",
       "    <tr>\n",
       "      <th>...</th>\n",
       "      <td>...</td>\n",
       "      <td>...</td>\n",
       "      <td>...</td>\n",
       "      <td>...</td>\n",
       "      <td>...</td>\n",
       "      <td>...</td>\n",
       "    </tr>\n",
       "    <tr>\n",
       "      <th>536015</th>\n",
       "      <td>1637696</td>\n",
       "      <td>6.448218499999999,3.4772075</td>\n",
       "      <td>6.437787399999999,3.481670199999999</td>\n",
       "      <td>2021-12-30 20:35:06</td>\n",
       "      <td>2021-12-30 21:02:59</td>\n",
       "      <td>False</td>\n",
       "    </tr>\n",
       "    <tr>\n",
       "      <th>536016</th>\n",
       "      <td>1637702</td>\n",
       "      <td>6.442320899999999,3.4736868</td>\n",
       "      <td>6.436589333407897,3.5559738188407835</td>\n",
       "      <td>2021-12-30 20:48:13</td>\n",
       "      <td>2021-12-30 21:43:49</td>\n",
       "      <td>False</td>\n",
       "    </tr>\n",
       "    <tr>\n",
       "      <th>536017</th>\n",
       "      <td>1637704</td>\n",
       "      <td>6.4281982,3.492248</td>\n",
       "      <td>6.448088500000001,3.4775747</td>\n",
       "      <td>2021-12-30 20:51:45</td>\n",
       "      <td>2021-12-30 21:41:32</td>\n",
       "      <td>False</td>\n",
       "    </tr>\n",
       "    <tr>\n",
       "      <th>536018</th>\n",
       "      <td>1637705</td>\n",
       "      <td>6.5869296,3.3632966</td>\n",
       "      <td>6.637906899999999,3.3339515</td>\n",
       "      <td>2021-12-30 20:48:50</td>\n",
       "      <td>2021-12-30 21:08:28</td>\n",
       "      <td>False</td>\n",
       "    </tr>\n",
       "    <tr>\n",
       "      <th>536019</th>\n",
       "      <td>1637709</td>\n",
       "      <td>6.647209999999999,3.4851489</td>\n",
       "      <td>6.454915198823159,3.555839938365194</td>\n",
       "      <td>2021-12-30 20:55:38</td>\n",
       "      <td>2021-12-30 22:25:00</td>\n",
       "      <td>False</td>\n",
       "    </tr>\n",
       "  </tbody>\n",
       "</table>\n",
       "<p>536020 rows × 6 columns</p>\n",
       "</div>"
      ],
      "text/plain": [
       "        Trip ID                         Trip Origin  \\\n",
       "0        391996  6.508813001668548,3.37740316890347   \n",
       "1        391997                 6.4316714,3.4555375   \n",
       "2        391998         6.631679399999999,3.3388976   \n",
       "3        391999         6.572757200000001,3.3677082   \n",
       "4        392001                 6.6010417,3.2766339   \n",
       "...         ...                                 ...   \n",
       "536015  1637696         6.448218499999999,3.4772075   \n",
       "536016  1637702         6.442320899999999,3.4736868   \n",
       "536017  1637704                  6.4281982,3.492248   \n",
       "536018  1637705                 6.5869296,3.3632966   \n",
       "536019  1637709         6.647209999999999,3.4851489   \n",
       "\n",
       "                            Trip Destination     Trip Start Time  \\\n",
       "0                6.650969799999999,3.3450307 2021-07-01 07:28:04   \n",
       "1            6.4280814653326,3.4721885847586 2021-07-01 06:38:04   \n",
       "2                6.508324099999999,3.3590397 2021-07-01 06:21:02   \n",
       "3                6.584881099999999,3.3614073 2021-07-01 07:16:07   \n",
       "4                        6.4501069,3.3916154 2021-07-01 09:30:59   \n",
       "...                                      ...                 ...   \n",
       "536015   6.437787399999999,3.481670199999999 2021-12-30 20:35:06   \n",
       "536016  6.436589333407897,3.5559738188407835 2021-12-30 20:48:13   \n",
       "536017           6.448088500000001,3.4775747 2021-12-30 20:51:45   \n",
       "536018           6.637906899999999,3.3339515 2021-12-30 20:48:50   \n",
       "536019   6.454915198823159,3.555839938365194 2021-12-30 20:55:38   \n",
       "\n",
       "              Trip End Time  Holiday  \n",
       "0       2021-07-01 07:29:37    False  \n",
       "1       2021-07-01 07:07:28    False  \n",
       "2       2021-07-01 07:02:23    False  \n",
       "3       2021-07-01 07:29:42    False  \n",
       "4       2021-07-01 09:34:36    False  \n",
       "...                     ...      ...  \n",
       "536015  2021-12-30 21:02:59    False  \n",
       "536016  2021-12-30 21:43:49    False  \n",
       "536017  2021-12-30 21:41:32    False  \n",
       "536018  2021-12-30 21:08:28    False  \n",
       "536019  2021-12-30 22:25:00    False  \n",
       "\n",
       "[536020 rows x 6 columns]"
      ]
     },
     "execution_count": 39,
     "metadata": {},
     "output_type": "execute_result"
    }
   ],
   "source": [
    "order"
   ]
  },
  {
   "cell_type": "code",
   "execution_count": 42,
   "id": "de7d15b0-815a-430d-bb1a-b1f158afbd10",
   "metadata": {
    "tags": []
   },
   "outputs": [
    {
     "name": "stdout",
     "output_type": "stream",
     "text": [
      "Data saved to /home/user/Documents/10/w8/logistic_optimization/data/processed/order.csv\n"
     ]
    },
    {
     "data": {
      "text/plain": [
       "'/home/user/Documents/10/w8/logistic_optimization/data/processed/order.csv'"
      ]
     },
     "execution_count": 42,
     "metadata": {},
     "output_type": "execute_result"
    }
   ],
   "source": [
    "path = rpath + \"/data/processed/order.csv\"\n",
    "util.save_to_csv(order, path)"
   ]
  },
  {
   "cell_type": "code",
   "execution_count": null,
   "id": "4f7c076c-87e5-4ef1-8bec-df2e1cbdd30f",
   "metadata": {},
   "outputs": [],
   "source": []
  }
 ],
 "metadata": {
  "kernelspec": {
   "display_name": "Python 3 (ipykernel)",
   "language": "python",
   "name": "python3"
  },
  "language_info": {
   "codemirror_mode": {
    "name": "ipython",
    "version": 3
   },
   "file_extension": ".py",
   "mimetype": "text/x-python",
   "name": "python",
   "nbconvert_exporter": "python",
   "pygments_lexer": "ipython3",
   "version": "3.11.7"
  }
 },
 "nbformat": 4,
 "nbformat_minor": 5
}
