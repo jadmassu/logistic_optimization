{
 "cells": [
  {
   "cell_type": "code",
   "execution_count": 15,
   "id": "cf8e5d8c-a747-4351-88ca-fc79817c132c",
   "metadata": {
    "tags": []
   },
   "outputs": [
    {
     "name": "stdout",
     "output_type": "stream",
     "text": [
      "\u001b[31mERROR: Ignored the following versions that require a different python version: 0.10.0 Requires-Python >=3.6, <3.9; 0.11.0 Requires-Python >=3.6, <3.9; 0.11.1 Requires-Python >=3.6, <3.11; 0.11.2 Requires-Python >=3.8, <3.11; 0.12.0 Requires-Python >=3.8, <3.11; 0.12.1 Requires-Python >=3.8, <3.11; 0.4.0 Requires-Python >=3.5, <3.8; 0.4.1 Requires-Python >=3.5, <3.8; 0.4.2 Requires-Python >=3.5, <3.8; 0.4.3 Requires-Python >=3.5, <3.8; 0.5.0 Requires-Python >=3.5, <3.8; 0.6.0 Requires-Python >=3.5, <3.8; 0.7.0 Requires-Python >=3.5, <3.8; 0.8.0 Requires-Python >=3.5, <3.8; 0.8.1 Requires-Python >=3.5, <3.8; 0.9.0 Requires-Python >=3.6, <3.9; 0.9.1 Requires-Python >=3.6, <3.9; 0.9.2 Requires-Python >=3.6, <3.9\u001b[0m\u001b[31m\n",
      "\u001b[0m\u001b[31mERROR: Could not find a version that satisfies the requirement causalnex (from versions: none)\u001b[0m\u001b[31m\n",
      "\u001b[0m\u001b[31mERROR: No matching distribution found for causalnex\u001b[0m\u001b[31m\n",
      "\u001b[0m"
     ]
    }
   ],
   "source": [
    "!pip install causalnex"
   ]
  },
  {
   "cell_type": "code",
   "execution_count": null,
   "id": "1231006a-f48b-458e-8d01-24ba775446c1",
   "metadata": {},
   "outputs": [],
   "source": []
  },
  {
   "cell_type": "code",
   "execution_count": 5,
   "id": "65888eb0-5126-4f51-979e-9fe0e2a8b552",
   "metadata": {
    "tags": []
   },
   "outputs": [],
   "source": [
    "import os, sys\n",
    "import pandas as pd\n",
    "from dotenv import load_dotenv\n",
    "rpath = os.path.abspath('/home/user/Documents/10/w8/logistic_optimization')\n",
    "\n",
    "if rpath not in sys.path:\n",
    "    sys.path.insert(0, rpath)\n",
    "    \n",
    "import utils.utils as util\n",
    "\n"
   ]
  },
  {
   "cell_type": "code",
   "execution_count": 7,
   "id": "cb7c6c65-51ec-4c2c-9c51-1e7a2a244244",
   "metadata": {
    "tags": []
   },
   "outputs": [
    {
     "ename": "ModuleNotFoundError",
     "evalue": "No module named 'causalnex'",
     "output_type": "error",
     "traceback": [
      "\u001b[0;31m---------------------------------------------------------------------------\u001b[0m",
      "\u001b[0;31mModuleNotFoundError\u001b[0m                       Traceback (most recent call last)",
      "Cell \u001b[0;32mIn[7], line 1\u001b[0m\n\u001b[0;32m----> 1\u001b[0m \u001b[38;5;28;01mfrom\u001b[39;00m \u001b[38;5;21;01mcausalnex\u001b[39;00m\u001b[38;5;21;01m.\u001b[39;00m\u001b[38;5;21;01mstructure\u001b[39;00m \u001b[38;5;28;01mimport\u001b[39;00m StructureModel\n\u001b[1;32m      2\u001b[0m \u001b[38;5;28;01mfrom\u001b[39;00m \u001b[38;5;21;01mcausalnex\u001b[39;00m\u001b[38;5;21;01m.\u001b[39;00m\u001b[38;5;21;01mstructure\u001b[39;00m\u001b[38;5;21;01m.\u001b[39;00m\u001b[38;5;21;01mnotears\u001b[39;00m \u001b[38;5;28;01mimport\u001b[39;00m from_pandas\n\u001b[1;32m      3\u001b[0m \u001b[38;5;28;01mfrom\u001b[39;00m \u001b[38;5;21;01mcausalnex\u001b[39;00m\u001b[38;5;21;01m.\u001b[39;00m\u001b[38;5;21;01mplots\u001b[39;00m \u001b[38;5;28;01mimport\u001b[39;00m plot_structure, NODE_STYLE, EDGE_STYLE\n",
      "\u001b[0;31mModuleNotFoundError\u001b[0m: No module named 'causalnex'"
     ]
    }
   ],
   "source": [
    "from causalnex.structure import StructureModel\n",
    "from causalnex.structure.notears import from_pandas\n",
    "from causalnex.plots import plot_structure, NODE_STYLE, EDGE_STYLE\n"
   ]
  },
  {
   "cell_type": "code",
   "execution_count": null,
   "id": "de8211d7-d670-4c4f-9189-cecbaa4f131e",
   "metadata": {},
   "outputs": [],
   "source": [
    "path = rpath + \"/data/processed/final.csv\" \n",
    "order = util.load_data(path)"
   ]
  },
  {
   "cell_type": "code",
   "execution_count": null,
   "id": "9bf440f7-4fa9-4f25-9e27-1624cfaeaeac",
   "metadata": {},
   "outputs": [],
   "source": [
    "\n",
    "# Select relevant columns for the causal graph\n",
    "relevant_columns = ['Trip Origin', 'Trip Destination', 'Trip Start Time', 'Trip End Time', 'Holiday', 'Weekday']\n",
    "train_data_subset = train_data[relevant_columns]\n",
    "\n",
    "# Learn the causal structure from the data\n",
    "sm = from_pandas(train_data_subset, w_threshold=0.8)\n",
    "\n",
    "# Visualize the causal graph\n",
    "viz = plot_structure(sm, graph_attributes={\"scale\": \"1.5\"},\n",
    "                     all_node_attributes=NODE_STYLE.WEAK,\n",
    "                     all_edge_attributes=EDGE_STYLE.WEAK)\n",
    "viz.view()\n"
   ]
  }
 ],
 "metadata": {
  "kernelspec": {
   "display_name": "Python 3 (ipykernel)",
   "language": "python",
   "name": "python3"
  },
  "language_info": {
   "codemirror_mode": {
    "name": "ipython",
    "version": 3
   },
   "file_extension": ".py",
   "mimetype": "text/x-python",
   "name": "python",
   "nbconvert_exporter": "python",
   "pygments_lexer": "ipython3",
   "version": "3.11.7"
  }
 },
 "nbformat": 4,
 "nbformat_minor": 5
}
