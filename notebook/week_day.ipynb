{
 "cells": [
  {
   "cell_type": "code",
   "execution_count": 1,
   "id": "bd061267-e47a-4aa7-9954-b8e22eb90890",
   "metadata": {
    "tags": []
   },
   "outputs": [],
   "source": [
    "import os, sys\n",
    "import pandas as pd\n",
    "from dotenv import load_dotenv\n",
    "rpath = os.path.abspath('/home/user/Documents/10/w8/logistic_optimization')\n",
    "\n",
    "if rpath not in sys.path:\n",
    "    sys.path.insert(0, rpath)\n",
    "    \n",
    "import utils.utils as util\n",
    "\n"
   ]
  },
  {
   "cell_type": "code",
   "execution_count": 2,
   "id": "eec56e66-5666-46f6-9c2a-453c25c8d89a",
   "metadata": {
    "tags": []
   },
   "outputs": [],
   "source": [
    "from service.weekday import WeekdayAdder"
   ]
  },
  {
   "cell_type": "code",
   "execution_count": 3,
   "id": "0aa7970d-40df-4ee3-9ab4-f9e17a9de5b1",
   "metadata": {
    "tags": []
   },
   "outputs": [
    {
     "name": "stdout",
     "output_type": "stream",
     "text": [
      "Data loaded successfully.\n"
     ]
    }
   ],
   "source": [
    "path = rpath + \"/data/processed/order.csv\" \n",
    "order = util.load_data(path)"
   ]
  },
  {
   "cell_type": "code",
   "execution_count": 4,
   "id": "54d54d1a-8db1-4a6b-b2a0-3b089c93f8d8",
   "metadata": {
    "tags": []
   },
   "outputs": [],
   "source": [
    "wa= WeekdayAdder(df=order)"
   ]
  },
  {
   "cell_type": "code",
   "execution_count": 7,
   "id": "bbc0ff29-edbe-4c41-8acc-83c461e1d69c",
   "metadata": {
    "tags": []
   },
   "outputs": [
    {
     "data": {
      "text/html": [
       "<div>\n",
       "<style scoped>\n",
       "    .dataframe tbody tr th:only-of-type {\n",
       "        vertical-align: middle;\n",
       "    }\n",
       "\n",
       "    .dataframe tbody tr th {\n",
       "        vertical-align: top;\n",
       "    }\n",
       "\n",
       "    .dataframe thead th {\n",
       "        text-align: right;\n",
       "    }\n",
       "</style>\n",
       "<table border=\"1\" class=\"dataframe\">\n",
       "  <thead>\n",
       "    <tr style=\"text-align: right;\">\n",
       "      <th></th>\n",
       "      <th>Trip ID</th>\n",
       "      <th>Trip Origin</th>\n",
       "      <th>Trip Destination</th>\n",
       "      <th>Trip Start Time</th>\n",
       "      <th>Trip End Time</th>\n",
       "      <th>Holiday</th>\n",
       "      <th>Weekday</th>\n",
       "    </tr>\n",
       "  </thead>\n",
       "  <tbody>\n",
       "    <tr>\n",
       "      <th>0</th>\n",
       "      <td>391996</td>\n",
       "      <td>6.508813001668548,3.37740316890347</td>\n",
       "      <td>6.650969799999999,3.3450307</td>\n",
       "      <td>2021-07-01 07:28:04</td>\n",
       "      <td>2021-07-01 07:29:37</td>\n",
       "      <td>False</td>\n",
       "      <td>True</td>\n",
       "    </tr>\n",
       "    <tr>\n",
       "      <th>1</th>\n",
       "      <td>391997</td>\n",
       "      <td>6.4316714,3.4555375</td>\n",
       "      <td>6.4280814653326,3.4721885847586</td>\n",
       "      <td>2021-07-01 06:38:04</td>\n",
       "      <td>2021-07-01 07:07:28</td>\n",
       "      <td>False</td>\n",
       "      <td>True</td>\n",
       "    </tr>\n",
       "    <tr>\n",
       "      <th>2</th>\n",
       "      <td>391998</td>\n",
       "      <td>6.631679399999999,3.3388976</td>\n",
       "      <td>6.508324099999999,3.3590397</td>\n",
       "      <td>2021-07-01 06:21:02</td>\n",
       "      <td>2021-07-01 07:02:23</td>\n",
       "      <td>False</td>\n",
       "      <td>True</td>\n",
       "    </tr>\n",
       "    <tr>\n",
       "      <th>3</th>\n",
       "      <td>391999</td>\n",
       "      <td>6.572757200000001,3.3677082</td>\n",
       "      <td>6.584881099999999,3.3614073</td>\n",
       "      <td>2021-07-01 07:16:07</td>\n",
       "      <td>2021-07-01 07:29:42</td>\n",
       "      <td>False</td>\n",
       "      <td>True</td>\n",
       "    </tr>\n",
       "    <tr>\n",
       "      <th>4</th>\n",
       "      <td>392001</td>\n",
       "      <td>6.6010417,3.2766339</td>\n",
       "      <td>6.4501069,3.3916154</td>\n",
       "      <td>2021-07-01 09:30:59</td>\n",
       "      <td>2021-07-01 09:34:36</td>\n",
       "      <td>False</td>\n",
       "      <td>True</td>\n",
       "    </tr>\n",
       "    <tr>\n",
       "      <th>...</th>\n",
       "      <td>...</td>\n",
       "      <td>...</td>\n",
       "      <td>...</td>\n",
       "      <td>...</td>\n",
       "      <td>...</td>\n",
       "      <td>...</td>\n",
       "      <td>...</td>\n",
       "    </tr>\n",
       "    <tr>\n",
       "      <th>536015</th>\n",
       "      <td>1637696</td>\n",
       "      <td>6.448218499999999,3.4772075</td>\n",
       "      <td>6.437787399999999,3.481670199999999</td>\n",
       "      <td>2021-12-30 20:35:06</td>\n",
       "      <td>2021-12-30 21:02:59</td>\n",
       "      <td>False</td>\n",
       "      <td>True</td>\n",
       "    </tr>\n",
       "    <tr>\n",
       "      <th>536016</th>\n",
       "      <td>1637702</td>\n",
       "      <td>6.442320899999999,3.4736868</td>\n",
       "      <td>6.436589333407897,3.5559738188407835</td>\n",
       "      <td>2021-12-30 20:48:13</td>\n",
       "      <td>2021-12-30 21:43:49</td>\n",
       "      <td>False</td>\n",
       "      <td>True</td>\n",
       "    </tr>\n",
       "    <tr>\n",
       "      <th>536017</th>\n",
       "      <td>1637704</td>\n",
       "      <td>6.4281982,3.492248</td>\n",
       "      <td>6.448088500000001,3.4775747</td>\n",
       "      <td>2021-12-30 20:51:45</td>\n",
       "      <td>2021-12-30 21:41:32</td>\n",
       "      <td>False</td>\n",
       "      <td>True</td>\n",
       "    </tr>\n",
       "    <tr>\n",
       "      <th>536018</th>\n",
       "      <td>1637705</td>\n",
       "      <td>6.5869296,3.3632966</td>\n",
       "      <td>6.637906899999999,3.3339515</td>\n",
       "      <td>2021-12-30 20:48:50</td>\n",
       "      <td>2021-12-30 21:08:28</td>\n",
       "      <td>False</td>\n",
       "      <td>True</td>\n",
       "    </tr>\n",
       "    <tr>\n",
       "      <th>536019</th>\n",
       "      <td>1637709</td>\n",
       "      <td>6.647209999999999,3.4851489</td>\n",
       "      <td>6.454915198823159,3.555839938365194</td>\n",
       "      <td>2021-12-30 20:55:38</td>\n",
       "      <td>2021-12-30 22:25:00</td>\n",
       "      <td>False</td>\n",
       "      <td>True</td>\n",
       "    </tr>\n",
       "  </tbody>\n",
       "</table>\n",
       "<p>536020 rows × 7 columns</p>\n",
       "</div>"
      ],
      "text/plain": [
       "        Trip ID                         Trip Origin  \\\n",
       "0        391996  6.508813001668548,3.37740316890347   \n",
       "1        391997                 6.4316714,3.4555375   \n",
       "2        391998         6.631679399999999,3.3388976   \n",
       "3        391999         6.572757200000001,3.3677082   \n",
       "4        392001                 6.6010417,3.2766339   \n",
       "...         ...                                 ...   \n",
       "536015  1637696         6.448218499999999,3.4772075   \n",
       "536016  1637702         6.442320899999999,3.4736868   \n",
       "536017  1637704                  6.4281982,3.492248   \n",
       "536018  1637705                 6.5869296,3.3632966   \n",
       "536019  1637709         6.647209999999999,3.4851489   \n",
       "\n",
       "                            Trip Destination     Trip Start Time  \\\n",
       "0                6.650969799999999,3.3450307 2021-07-01 07:28:04   \n",
       "1            6.4280814653326,3.4721885847586 2021-07-01 06:38:04   \n",
       "2                6.508324099999999,3.3590397 2021-07-01 06:21:02   \n",
       "3                6.584881099999999,3.3614073 2021-07-01 07:16:07   \n",
       "4                        6.4501069,3.3916154 2021-07-01 09:30:59   \n",
       "...                                      ...                 ...   \n",
       "536015   6.437787399999999,3.481670199999999 2021-12-30 20:35:06   \n",
       "536016  6.436589333407897,3.5559738188407835 2021-12-30 20:48:13   \n",
       "536017           6.448088500000001,3.4775747 2021-12-30 20:51:45   \n",
       "536018           6.637906899999999,3.3339515 2021-12-30 20:48:50   \n",
       "536019   6.454915198823159,3.555839938365194 2021-12-30 20:55:38   \n",
       "\n",
       "              Trip End Time  Holiday  Weekday  \n",
       "0       2021-07-01 07:29:37    False     True  \n",
       "1       2021-07-01 07:07:28    False     True  \n",
       "2       2021-07-01 07:02:23    False     True  \n",
       "3       2021-07-01 07:29:42    False     True  \n",
       "4       2021-07-01 09:34:36    False     True  \n",
       "...                     ...      ...      ...  \n",
       "536015  2021-12-30 21:02:59    False     True  \n",
       "536016  2021-12-30 21:43:49    False     True  \n",
       "536017  2021-12-30 21:41:32    False     True  \n",
       "536018  2021-12-30 21:08:28    False     True  \n",
       "536019  2021-12-30 22:25:00    False     True  \n",
       "\n",
       "[536020 rows x 7 columns]"
      ]
     },
     "execution_count": 7,
     "metadata": {},
     "output_type": "execute_result"
    }
   ],
   "source": [
    "wa.add_weekday_column()"
   ]
  },
  {
   "cell_type": "code",
   "execution_count": 12,
   "id": "2205c54a-14a1-462e-9ffe-5b47c92f0a6e",
   "metadata": {
    "tags": []
   },
   "outputs": [
    {
     "name": "stdout",
     "output_type": "stream",
     "text": [
      "Data saved to /home/user/Documents/10/w8/logistic_optimization/data/processed/order.csv\n"
     ]
    },
    {
     "data": {
      "text/plain": [
       "'/home/user/Documents/10/w8/logistic_optimization/data/processed/order.csv'"
      ]
     },
     "execution_count": 12,
     "metadata": {},
     "output_type": "execute_result"
    }
   ],
   "source": [
    "path = rpath + \"/data/processed/order.csv\"\n",
    "util.save_to_csv(order, path)"
   ]
  },
  {
   "cell_type": "code",
   "execution_count": null,
   "id": "3b4aa851-c986-41b6-a653-c404964fcef9",
   "metadata": {},
   "outputs": [],
   "source": []
  }
 ],
 "metadata": {
  "kernelspec": {
   "display_name": "Python 3 (ipykernel)",
   "language": "python",
   "name": "python3"
  },
  "language_info": {
   "codemirror_mode": {
    "name": "ipython",
    "version": 3
   },
   "file_extension": ".py",
   "mimetype": "text/x-python",
   "name": "python",
   "nbconvert_exporter": "python",
   "pygments_lexer": "ipython3",
   "version": "3.11.7"
  }
 },
 "nbformat": 4,
 "nbformat_minor": 5
}
